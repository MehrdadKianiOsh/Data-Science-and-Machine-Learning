{
 "cells": [
  {
   "cell_type": "markdown",
   "metadata": {},
   "source": [
    "# Classification and Regression Metrics\n",
    "\n",
    "## Classification and Regression Metrics\n",
    "\n",
    "**Classification** problems are perhaps the most common type of machine learning problem and as such there are a lots of metrics that can be used to evaluate them.\n",
    "\n",
    "Here are some important ones:\n",
    "\n",
    "1. Classification Accuracy\n",
    "2. Log Loss\n",
    "3. Area Under ROC Curve.\n",
    "4. Classification Report.\n",
    "5. Confusion Matrix.\n",
    "\n",
    "### Classification Accuracy\n",
    "\n",
    "**Classification accuracy** is the number of correct predictions made as a ratio of all predictions made.<br>\n",
    "\n",
    "This metric is only suitable when there are an equal number of observations in each class and that all predictions and prediction errors are equally important.<br>"
   ]
  },
  {
   "cell_type": "code",
   "execution_count": 1,
   "metadata": {},
   "outputs": [
    {
     "name": "stdout",
     "output_type": "stream",
     "text": [
      "Accuracy: 95.333% (std: 0.052)\n"
     ]
    }
   ],
   "source": [
    "from sklearn.linear_model import LogisticRegression\n",
    "from sklearn.datasets import load_iris\n",
    "from sklearn import model_selection\n",
    "from sklearn.preprocessing import StandardScaler\n",
    "import numpy as np\n",
    "\n",
    "dataset=load_iris()\n",
    "\n",
    "X = dataset.data\n",
    "y = dataset.target\n",
    "featNames=np.array(dataset.feature_names)\n",
    "\n",
    "# Feature Scaling :\n",
    "\n",
    "sc = StandardScaler()\n",
    "X_scaled = sc.fit_transform(X)\n",
    "\n",
    "kfold = model_selection.KFold(n_splits=10, random_state=7, shuffle=True)\n",
    "model = LogisticRegression()\n",
    "scoring = 'accuracy'\n",
    "results = model_selection.cross_val_score(model, X_scaled, y, cv=kfold, scoring=scoring)\n",
    "print(f\"Accuracy: {results.mean()*100:.3f}% (std: {results.std():.3f})\" )"
   ]
  },
  {
   "cell_type": "markdown",
   "metadata": {},
   "source": [
    "### Log Loss\n",
    "\n",
    "**Logistic loss** (or **log loss**) is a performance metric for evaluating the predictions of probabilities of membership to a given class.<br>\n",
    "\n",
    "The scalar probability between 0 and 1 can be seen as a measure of confidence for a prediction by an algorithm. Predictions that are correct or incorrect are rewarded or punished proportionally to the confidence of the prediction.<br>\n",
    "\n",
    "Smaller log loss is better with 0 representing a perfect log loss."
   ]
  },
  {
   "cell_type": "code",
   "execution_count": 2,
   "metadata": {},
   "outputs": [
    {
     "name": "stdout",
     "output_type": "stream",
     "text": [
      "Accuracy: -0.153 (std: 0.083)\n"
     ]
    }
   ],
   "source": [
    "from sklearn.linear_model import LogisticRegression\n",
    "from sklearn.datasets import load_iris\n",
    "from sklearn import model_selection\n",
    "from sklearn.preprocessing import StandardScaler\n",
    "import numpy as np\n",
    "\n",
    "dataset=load_iris()\n",
    "\n",
    "X = dataset.data\n",
    "y = dataset.target\n",
    "featNames=np.array(dataset.feature_names)\n",
    "\n",
    "# Feature Scaling :\n",
    "\n",
    "sc = StandardScaler()\n",
    "X_scaled = sc.fit_transform(X)\n",
    "\n",
    "kfold = model_selection.KFold(n_splits=10, random_state=7, shuffle=True)\n",
    "model = LogisticRegression()\n",
    "scoring = 'neg_log_loss'\n",
    "results = model_selection.cross_val_score(model, X_scaled, y, cv=kfold, scoring=scoring)\n",
    "print(f\"Log loss: {results.mean():.3f} (std: {results.std():.3f})\" )"
   ]
  },
  {
   "cell_type": "markdown",
   "metadata": {},
   "source": [
    "### Area Under ROC Curve\n",
    "\n",
    "**Area Under ROC Curve** (or **ROC AUC** for short) is a performance metric for binary classification problems.\n",
    "<br>\n",
    "\n",
    "An area of 1.0 represents a model that made all predictions perfectly.<br>\n",
    "An area of 0.5 represents a model as good as random.<br>\n",
    "\n",
    "A ROC Curve is a plot of the true positive rate and the false positive rate for a given set of probability predictions at different thresholds used to map the probabilities to class labels. <br>\n",
    "\n",
    "The area under the curve is then the approximate integral under the ROC Curve."
   ]
  },
  {
   "cell_type": "code",
   "execution_count": 6,
   "metadata": {},
   "outputs": [
    {
     "name": "stdout",
     "output_type": "stream",
     "text": [
      "(150, 4)\n",
      "Area under the ROC curve : 0.83\n",
      "AUC: 0.808 (0.194)\n"
     ]
    },
    {
     "data": {
      "image/png": "[encoded data removed]",
      "text/plain": [
       "<Figure size 432x288 with 1 Axes>"
      ]
     },
     "metadata": {
      "needs_background": "light"
     },
     "output_type": "display_data"
    }
   ],
   "source": [
    "from sklearn.linear_model import LogisticRegression\n",
    "from sklearn.model_selection import train_test_split\n",
    "from sklearn.datasets import load_iris\n",
    "from sklearn import model_selection\n",
    "from sklearn.preprocessing import StandardScaler\n",
    "from sklearn import svm, datasets\n",
    "from sklearn.utils import shuffle\n",
    "from sklearn.metrics import roc_curve, auc\n",
    "import matplotlib.pyplot as pl\n",
    "import numpy as np\n",
    "\n",
    "dataset=load_iris()\n",
    "\n",
    "X = dataset.data\n",
    "y = dataset.target\n",
    "\n",
    "random_state = np.random.RandomState(0)\n",
    "print(X.shape)\n",
    "# Make it a binary classification problem by removing the third class\n",
    "X, y = X[y != 2], y[y != 2]\n",
    "n_samples, n_features = X.shape\n",
    "\n",
    "# Add noisy features to make the problem harder\n",
    "X = np.c_[X, random_state.randn(n_samples, 800)]\n",
    "\n",
    "# shuffle and split training and test sets\n",
    "X_train, X_test, y_train, y_test = train_test_split(X, y, test_size=0.2, random_state=0)\n",
    "\n",
    "\n",
    "# Run classifier\n",
    "kfold = model_selection.KFold(n_splits=10, random_state=7, shuffle=True)\n",
    "\n",
    "classifier = svm.SVC(kernel='linear', probability=True)\n",
    "\n",
    "\n",
    "probas_ = classifier.fit(X_train, y_train).predict_proba(X_test)\n",
    "\n",
    "# Compute ROC curve and area the curve\n",
    "fpr, tpr, thresholds = roc_curve(y_test, probas_[:, 1])\n",
    "roc_auc = auc(fpr, tpr)\n",
    "print (f\"Area under the ROC curve : {roc_auc}\")\n",
    "\n",
    "# Plot ROC curve\n",
    "\n",
    "pl.plot(fpr, tpr, label=f'ROC curve (area = {roc_auc:.2f})')\n",
    "pl.plot([0, 1], [0, 1], 'k--')\n",
    "pl.xlim([0.0, 1.0])\n",
    "pl.ylim([0.0, 1.0])\n",
    "pl.xlabel('False Positive Rate')\n",
    "pl.ylabel('True Positive Rate')\n",
    "pl.title('Receiver operating characteristic example')\n",
    "pl.legend(loc=\"lower right\")\n",
    "\n",
    "scoring = 'roc_auc'\n",
    "results = model_selection.cross_val_score(classifier, X_train, y_train, cv=kfold, scoring=scoring)\n",
    "print(f\"AUC: {results.mean():.3f} ({results.std():.3f})\")"
   ]
  },
  {
   "cell_type": "markdown",
   "metadata": {},
   "source": [
    "### Classification report\n",
    "\n",
    "A Classification report is used to measure the __quality of predictions__ from a classification algorithm. <br>\n",
    "More specifically, True Positives, False Positives, True negatives and False Negatives are used to predict the metrics of a classification report.<br><br> \n",
    "\n",
    "- True Negative (TN): when a case was negative and predicted negative\n",
    "- True Positive (TP): when a case was positive and predicted positive\n",
    "- False Negative (FN): when a case was positive but predicted negative\n",
    "- False Positive (FP): when a case was negative but predicted positive\n",
    "\n"
   ]
  },
  {
   "cell_type": "code",
   "execution_count": 7,
   "metadata": {},
   "outputs": [
    {
     "name": "stdout",
     "output_type": "stream",
     "text": [
      "                 precision    recall  f1-score   support\n",
      "\n",
      "    Iris-setosa       1.00      1.00      1.00        16\n",
      "Iris-versicolor       1.00      0.94      0.97        18\n",
      " Iris-virginica       0.92      1.00      0.96        11\n",
      "\n",
      "       accuracy                           0.98        45\n",
      "      macro avg       0.97      0.98      0.98        45\n",
      "   weighted avg       0.98      0.98      0.98        45\n",
      "\n"
     ]
    }
   ],
   "source": [
    "# Classification report of Iris dataset using the SVM algorithm:\n",
    "import pandas as pd\n",
    "from sklearn.svm import SVC\n",
    "from sklearn.metrics import classification_report, confusion_matrix\n",
    "from sklearn.model_selection import train_test_split\n",
    "\n",
    "colnames = ['sepal-length', 'sepal-width', 'petal-length', 'petal-width', 'Class']\n",
    "dataset = pd.read_csv('datasets/iris.data', names=colnames)\n",
    "X = dataset.drop('Class', axis=1)\n",
    "y = dataset['Class']\n",
    "X.shape\n",
    "\n",
    "X_train, X_test, y_train, y_test = train_test_split(X, y, test_size=0.3, random_state=0)\n",
    "svclassifier = SVC(kernel='rbf', degree=2, gamma='auto')\n",
    "svclassifier.fit(X_train, y_train)\n",
    "y_pred = svclassifier.predict(X_test)\n",
    "print(classification_report(y_test, y_pred, target_names=y.unique()))"
   ]
  },
  {
   "cell_type": "markdown",
   "metadata": {},
   "source": [
    "The report shows the main classification metrics: __precision__, __recall__ and __f1-score__, on a per-class basis. \n",
    "\n",
    "#### Precision (what percent of your predictions were correct?)\n",
    "\n",
    "__Precision__ is the ability of a classifier not to label an instance positive that is actually negative (i.e. the accuracy of positive predictions).<br>\n",
    "For each class it is defined as the ratio of true positives to the sum of true and false positives.\n",
    "<br>\n",
    "\n",
    "Precision = TP/(TP + FP)"
   ]
  },
  {
   "cell_type": "code",
   "execution_count": 8,
   "metadata": {},
   "outputs": [
    {
     "name": "stdout",
     "output_type": "stream",
     "text": [
      "Precision score: 0.9777777777777777\n"
     ]
    }
   ],
   "source": [
    "from sklearn.metrics import precision_score\n",
    "print(f\"Precision score: {precision_score(y_test, y_pred, average='micro')}\")"
   ]
  },
  {
   "cell_type": "markdown",
   "metadata": {},
   "source": [
    "####  Recall (What percent of the positive cases did you catch?) \n",
    "\n",
    "__Recall__ is the ability of a classifier to find all positive instances (i.e. the fraction of positives that were correctly identified).<br> \n",
    "For each class it is defined as the ratio of true positives to the sum of true positives and false negatives.<br>\n",
    "\n",
    "Recall = TP/(TP+FN)"
   ]
  },
  {
   "cell_type": "code",
   "execution_count": 9,
   "metadata": {},
   "outputs": [
    {
     "name": "stdout",
     "output_type": "stream",
     "text": [
      "Recall score: 0.9777777777777777\n"
     ]
    }
   ],
   "source": [
    "from sklearn.metrics import recall_score\n",
    "print(f\"Recall score: {recall_score(y_test,y_pred,average='micro')}\")"
   ]
  },
  {
   "cell_type": "markdown",
   "metadata": {},
   "source": [
    "#### F1 score (What percent of positive predictions were correct?)\n",
    " \n",
    "The __F1 score__ is a weighted harmonic mean of precision and recall such that the best score is 1.0 and the worst is 0.0. <br>\n",
    "Generally speaking, F1 scores are lower than accuracy measures as they embed precision and recall into their computation. <br>\n",
    "As a rule of thumb, the weighted average of F1 should be used to compare classifier models, not global accuracy.\n",
    "<br>\n",
    "\n",
    "F1 Score = 2*(Recall * Precision) / (Recall + Precision)"
   ]
  },
  {
   "cell_type": "code",
   "execution_count": 10,
   "metadata": {},
   "outputs": [
    {
     "name": "stdout",
     "output_type": "stream",
     "text": [
      "F1 Score: 0.9777777777777777\n"
     ]
    }
   ],
   "source": [
    "from sklearn.metrics import f1_score\n",
    "print(f\"F1 Score: {f1_score(y_test,y_pred,average='micro')}\")"
   ]
  },
  {
   "cell_type": "markdown",
   "metadata": {},
   "source": [
    "The other reported information include: <br>\n",
    "- __macro average__ (averaging the unweighted mean per label), \n",
    "- __weighted average__ (averaging the support-weighted mean per label)\n",
    "- __accuracy__ (the fraction of predictions our model got right: (tp+tn)/(tp+tn+fp+fn))"
   ]
  },
  {
   "cell_type": "markdown",
   "metadata": {},
   "source": [
    "### Confusion Matrix\n",
    "\n",
    "A __confusion matrix__ visualises classification accuracy and errors made by a machine learning model. <br>\n",
    "They are especially useful where there are multiple classification categories. <br>\n",
    "Each row of the matrix represents the instances in a predicted class while each column represents the instances in an actual class (or vice versa). \n",
    "\n",
    "The Scikit-Learn function __confusion_matrix()__ returns a confusion matrix and it is possible to use a plotting library to plot it if we want to.<br>\n",
    "\n",
    "The accuracy of the model is good if the majority of the predictions fall on the diagonal line of the matrix (which are correct predictions)."
   ]
  },
  {
   "cell_type": "code",
   "execution_count": 11,
   "metadata": {},
   "outputs": [
    {
     "name": "stdout",
     "output_type": "stream",
     "text": [
      "[[16  0  0]\n",
      " [ 0 17  1]\n",
      " [ 0  0 11]]\n"
     ]
    },
    {
     "data": {
      "text/plain": [
       "Text(0.5, 1.0, 'Confusion Matrix')"
      ]
     },
     "execution_count": 11,
     "metadata": {},
     "output_type": "execute_result"
    },
    {
     "data": {
      "image/png": "[encoded data removed]",
      "text/plain": [
       "<Figure size 432x288 with 2 Axes>"
      ]
     },
     "metadata": {
      "needs_background": "light"
     },
     "output_type": "display_data"
    }
   ],
   "source": [
    "import matplotlib.pyplot as plt\n",
    "import seaborn as sns\n",
    "\n",
    "cnf_matrix = confusion_matrix(y_test, y_pred)\n",
    "print(cnf_matrix)\n",
    "\n",
    "hmap=sns.heatmap(cnf_matrix, annot=True, fmt='d')\n",
    "hmap.yaxis.set_ticklabels(hmap.yaxis.get_ticklabels(), rotation=0, ha='right')\n",
    "hmap.xaxis.set_ticklabels(hmap.xaxis.get_ticklabels(), rotation=45, ha='right')\n",
    "bottom, top = hmap.get_ylim() # to correct a bug with matplotlib 3.1.1\n",
    "hmap.set_ylim(bottom + 0.5, top - 0.5) # to correct a bug with matplotlib 3.1.1\n",
    "\n",
    "plt.ylabel('True label')\n",
    "plt.xlabel('Predicted label')\n",
    "plt.title('Confusion Matrix')"
   ]
  },
  {
   "cell_type": "markdown",
   "metadata": {},
   "source": [
    "## Regression Error Metrics\n",
    "\n",
    "The quality of a __regression model__ is how well its predictions match up against actual values.\n",
    "<br>\n",
    "Several error metrics exist to judge the quality of a model and enable us to compare regresssions against other regressions with different parameters:<br>\n",
    "\n",
    "- Mean Absolute Error (MAE)\n",
    "- Mean Square Error (MSE)\n",
    "- Root Mean Squared Error (RMSE)\n",
    "- Root Squared Error (R^2)\n",
    "\n",
    "\n",
    "### Mean absolute error\n",
    "\n",
    "The __mean absolute error (MAE)__ calculate the residual for every data point, taking only the absolute value of each so that negative and positive residuals do not cancel out, and then take the average of all these residuals.<br>\n",
    "The picture below is a graphical description of the MAE. The green line represents our model’s predictions, and the blue points represent our data.\n",
    "\n",
    "<img src=\"nbimages/mae.jpg\" alt=\"Mean Absolute Error\" title=\"MAE\" width=400 height=400 />\n",
    "\n",
    "A small MAE (compared to the feature range) suggests the model is great at prediction (0 means that your model is a perfect predictor), while a large MAE suggests that your model may have trouble in certain areas.<br>\n",
    "\n",
    "**Caveat**: `cross_val_score()` reports scores in ascending order (largest score is best). But MAE is naturally descending scores (the smallest score is best). Thus we need to use `neg_mean_absolute_error` to invert the sorting. This also results in the score to be negative even though the value can never be negative.\n"
   ]
  },
  {
   "cell_type": "code",
   "execution_count": 12,
   "metadata": {},
   "outputs": [
    {
     "name": "stdout",
     "output_type": "stream",
     "text": [
      "MAE: -3.387 (0.667)\n"
     ]
    }
   ],
   "source": [
    "from sklearn.datasets import load_boston\n",
    "from sklearn.linear_model import LinearRegression\n",
    "from sklearn import model_selection\n",
    "import pandas as pd\n",
    "import numpy as np\n",
    "import matplotlib.pyplot as plt\n",
    "import seaborn as sns\n",
    "\n",
    "from sklearn.model_selection import train_test_split\n",
    "\n",
    "#Loading the dataset\n",
    "x = load_boston()\n",
    "df = pd.DataFrame(x.data, columns = x.feature_names)\n",
    "df[\"MEDV\"] = x.target\n",
    "X = df.drop(\"MEDV\",1)   #Feature Matrix\n",
    "y = df[\"MEDV\"]          #Target Variable\n",
    "\n",
    "kfold = model_selection.KFold(n_splits=10, random_state=7, shuffle=True)\n",
    "model = LinearRegression()\n",
    "scoring = 'neg_mean_absolute_error'\n",
    "results = model_selection.cross_val_score(model, X, y, cv=kfold, scoring=scoring)\n",
    "print(f\"MAE: {results.mean():.3f} ({results.std():.3f})\")"
   ]
  },
  {
   "cell_type": "markdown",
   "metadata": {},
   "source": [
    "### Mean square error\n",
    "\n",
    "The __mean square error (MSE)__ is just like the MAE, but squares the difference before summing them all instead of using the absolute value.<br> \n",
    "Since the errors are squared before they are averaged, the MSE gives a relatively high weight to large errors. This means the RMSE should be more used when large errors are particularly undesirable. <br><br>\n",
    "__Note__: outliers in the data will contribute to much higher total error in the MSE than they would in the MAE.<br>\n",
    "\n",
    "**Caveat**: this metric is inverted by the `cross_val_score()` function."
   ]
  },
  {
   "cell_type": "code",
   "execution_count": 13,
   "metadata": {},
   "outputs": [
    {
     "name": "stdout",
     "output_type": "stream",
     "text": [
      "MSE: -23.747 (11.143)\n"
     ]
    }
   ],
   "source": [
    "scoring = 'neg_mean_squared_error'\n",
    "results = model_selection.cross_val_score(model, X, y, cv=kfold, scoring=scoring)\n",
    "print(f\"MSE: {results.mean():.3f} ({results.std():.3f})\")"
   ]
  },
  {
   "cell_type": "markdown",
   "metadata": {},
   "source": [
    "### Root Mean square error\n",
    "\n",
    "The __root mean squared error (RMSE)__ is the square root of the MSE. <br>\n",
    "Because the MSE is squared, its units do not match that of the original output. RMSE converts the error metric back into similar units, making interpretation easier. <br>\n",
    "Since the MSE and RMSE both square the residual, they are similarly affected by outliers. <br>\n",
    "The RMSE is analogous to the standard deviation (MSE to variance) and is a measure of how large your residuals are spread out.<br>\n",
    "\n",
    "**Caveat**: this metric is inverted by the `cross_val_score()` function."
   ]
  },
  {
   "cell_type": "code",
   "execution_count": 14,
   "metadata": {},
   "outputs": [
    {
     "name": "stdout",
     "output_type": "stream",
     "text": [
      "RMSE: -4.735 (1.153)\n"
     ]
    }
   ],
   "source": [
    "scoring = 'neg_root_mean_squared_error'\n",
    "results = model_selection.cross_val_score(model, X, y, cv=kfold, scoring=scoring)\n",
    "print(f\"RMSE: {results.mean():.3f} ({results.std():.3f})\")"
   ]
  },
  {
   "cell_type": "markdown",
   "metadata": {},
   "source": [
    "### R^2 Metric\n",
    "\n",
    "The **R^2** (or **R Squared**) metric provides an indication of the goodness of fit of a set of predictions to the actual values. In statistical literature, this measure is called the coefficient of determination.<br>\n",
    "\n",
    "This is a value between 0 and 1 for no-fit and perfect fit respectively."
   ]
  },
  {
   "cell_type": "code",
   "execution_count": 15,
   "metadata": {},
   "outputs": [
    {
     "name": "stdout",
     "output_type": "stream",
     "text": [
      "R^2: 0.718 (0.099)\n"
     ]
    }
   ],
   "source": [
    "scoring = 'r2'\n",
    "results = model_selection.cross_val_score(model, X, y, cv=kfold, scoring=scoring)\n",
    "print(f\"R^2: {results.mean():.3f} ({results.std():.3f})\")"
   ]
  },
  {
   "cell_type": "code",
   "execution_count": null,
   "metadata": {},
   "outputs": [],
   "source": []
  }
 ],
 "metadata": {
  "kernelspec": {
   "display_name": "Python 3",
   "language": "python",
   "name": "python3"
  },
  "language_info": {
   "codemirror_mode": {
    "name": "ipython",
    "version": 3
   },
   "file_extension": ".py",
   "mimetype": "text/x-python",
   "name": "python",
   "nbconvert_exporter": "python",
   "pygments_lexer": "ipython3",
   "version": "3.8.8"
  }
 },
 "nbformat": 4,
 "nbformat_minor": 2
}
