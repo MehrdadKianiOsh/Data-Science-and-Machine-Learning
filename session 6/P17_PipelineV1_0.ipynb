{
 "cells": [
  {
   "cell_type": "markdown",
   "id": "interesting-hearing",
   "metadata": {},
   "source": [
    "# Machine Learning Pipeline\n",
    "\n",
    "A machine learning **pipeline** can be created by putting together a sequence of steps involved in training a machine learning model. <br>\n",
    "\n",
    "The pipeline can be used to automate a machine learning workflow.<br>\n",
    "\n",
    "The pipeline can involve pre-processing, feature selection, classification/regression, post-processing, etc... <br>\n",
    "\n",
    "Pipelines may also help optimizing the model: tuning the model for the best performance. <br>\n",
    "\n",
    "## A classification problem without pipeline"
   ]
  },
  {
   "cell_type": "code",
   "execution_count": 1,
   "id": "banner-proposition",
   "metadata": {},
   "outputs": [
    {
     "name": "stdout",
     "output_type": "stream",
     "text": [
      "[0 0 0 0 0 0 0 0 0 0 0 0 0 0 0 0 0 0 0 0 0 0 0 0 0 0 0 0 0 0 0 0 0 0 0 0 0\n",
      " 0 0 0 0 0 0 0 0 0 0 0 0 0 1 1 1 1 1 1 1 1 1 1 1 1 1 1 1 1 1 1 1 1 1 1 1 1\n",
      " 1 1 1 1 1 1 1 1 1 1 1 1 1 1 1 1 1 1 1 1 1 1 1 1 1 1 2 2 2 2 2 2 2 2 2 2 2\n",
      " 2 2 2 2 2 2 2 2 2 2 2 2 2 2 2 2 2 2 2 2 2 2 2 2 2 2 2 2 2 2 2 2 2 2 2 2 2\n",
      " 2 2]\n",
      "(120, 4)\n",
      "(30, 4)\n",
      "Training set score: 0.9583333333333334\n",
      "Test set score: 1.0\n"
     ]
    }
   ],
   "source": [
    "from sklearn.datasets import load_iris\n",
    "from sklearn.neighbors import KNeighborsClassifier # The k-nearest neighbor classifier\n",
    "from sklearn.model_selection import train_test_split\n",
    "from sklearn.preprocessing import Normalizer, StandardScaler, MinMaxScaler, PowerTransformer, MaxAbsScaler, LabelEncoder\n",
    "import numpy as np\n",
    "\n",
    "dataset=load_iris()\n",
    "\n",
    "X = dataset.data\n",
    "y = dataset.target\n",
    "featNames=np.array(dataset.feature_names)\n",
    "\n",
    "# Feature Scaling :\n",
    "from sklearn.preprocessing import StandardScaler\n",
    "sc = StandardScaler()\n",
    "X_scaled = sc.fit_transform(X)\n",
    "\n",
    "# Encode the labels into unique integers\n",
    "encoder = LabelEncoder()\n",
    "y = encoder.fit_transform(np.ravel(y))\n",
    "print(y)\n",
    "\n",
    "# Split the data into test and train\n",
    "X_train, X_test, y_train, y_test = train_test_split(\n",
    "    X_scaled,  \n",
    "    y, \n",
    "    test_size=0.2,\n",
    "    random_state=0)\n",
    " \n",
    "print(X_train.shape)\n",
    "print(X_test.shape)\n",
    "\n",
    "# A Classifier Without a Pipeline\n",
    "knn = KNeighborsClassifier().fit(X_train, y_train)\n",
    "print(f\"Training set score: {knn.score(X_train,y_train)}\")\n",
    "print(f\"Test set score: {knn.score(X_test,y_test)}\")"
   ]
  },
  {
   "cell_type": "markdown",
   "id": "cardiovascular-renaissance",
   "metadata": {},
   "source": [
    "## The same classification problem with a pipeline\n",
    "\n",
    "In this simple example we are going to set up a basic pipeline that consists of the following sequence:\n",
    "\n",
    "1. Scaler: for pre-processing data, i.e., transform the data to zero mean and unit variance using the `StandardScaler()`.\n",
    "2. Feature selector: using `VarianceThreshold()` for discarding features whose variance is less than a certain defined threshold.\n",
    "3. Classifier: `KNeighborsClassifier()`, which implements the k-nearest neighbor classifier and selects the class of the majority `k` points, which are closest to the test example.\n",
    "\n"
   ]
  },
  {
   "cell_type": "code",
   "execution_count": 4,
   "id": "documented-astrology",
   "metadata": {},
   "outputs": [
    {
     "name": "stdout",
     "output_type": "stream",
     "text": [
      "[0 0 0 0 0 0 0 0 0 0 0 0 0 0 0 0 0 0 0 0 0 0 0 0 0 0 0 0 0 0 0 0 0 0 0 0 0\n",
      " 0 0 0 0 0 0 0 0 0 0 0 0 0 1 1 1 1 1 1 1 1 1 1 1 1 1 1 1 1 1 1 1 1 1 1 1 1\n",
      " 1 1 1 1 1 1 1 1 1 1 1 1 1 1 1 1 1 1 1 1 1 1 1 1 1 1 2 2 2 2 2 2 2 2 2 2 2\n",
      " 2 2 2 2 2 2 2 2 2 2 2 2 2 2 2 2 2 2 2 2 2 2 2 2 2 2 2 2 2 2 2 2 2 2 2 2 2\n",
      " 2 2]\n",
      "(120, 4)\n",
      "(30, 4)\n",
      "Training set score: 0.9583333333333334\n",
      "Test set score: 1.0\n"
     ]
    },
    {
     "data": {
      "text/plain": [
       "Pipeline(steps=[('scaler', StandardScaler()), ('selector', VarianceThreshold()),\n",
       "                ('classifier', KNeighborsClassifier())])"
      ]
     },
     "execution_count": 4,
     "metadata": {},
     "output_type": "execute_result"
    },
    {
     "name": "stdout",
     "output_type": "stream",
     "text": [
      "Training set score: 0.9583333333333334\n",
      "Test set score: 1.0\n"
     ]
    }
   ],
   "source": [
    "import seaborn as sns  \n",
    "from sklearn.datasets import load_iris\n",
    "from sklearn.neighbors import KNeighborsClassifier # The k-nearest neighbor classifier\n",
    "from sklearn.model_selection import train_test_split\n",
    "from sklearn.preprocessing import Normalizer, StandardScaler, MinMaxScaler, PowerTransformer, MaxAbsScaler, LabelEncoder\n",
    "from sklearn.pipeline import Pipeline   \n",
    "from sklearn.feature_selection import VarianceThreshold # Feature selector\n",
    "import numpy as np\n",
    "import pandas as pd\n",
    "\n",
    "dataset=load_iris()\n",
    "\n",
    "X = dataset.data\n",
    "y = dataset.target\n",
    "featNames=np.array(dataset.feature_names)\n",
    "\n",
    "# Feature Scaling :\n",
    "from sklearn.preprocessing import StandardScaler\n",
    "sc = StandardScaler()\n",
    "X_scaled = sc.fit_transform(X)\n",
    "\n",
    "# Encode the labels into unique integers\n",
    "encoder = LabelEncoder()\n",
    "y = encoder.fit_transform(np.ravel(y))\n",
    "print(y)\n",
    "\n",
    "# Split the data into test and train\n",
    "X_train, X_test, y_train, y_test = train_test_split(\n",
    "    X_scaled,  \n",
    "    y, \n",
    "    test_size=0.2,\n",
    "    random_state=0)\n",
    " \n",
    "print(X_train.shape)\n",
    "print(X_test.shape)\n",
    "\n",
    "# A Classifier Without a Pipeline\n",
    "knn = KNeighborsClassifier().fit(X_train, y_train)\n",
    "print('Training set score: ' + str(knn.score(X_train,y_train)))\n",
    "print('Test set score: ' + str(knn.score(X_test,y_test)))\n",
    "\n",
    "pipe = Pipeline([\n",
    "('scaler', StandardScaler()),\n",
    "('selector', VarianceThreshold()),\n",
    "('classifier', KNeighborsClassifier())\n",
    "])\n",
    " \n",
    "pipe.fit(X_train, y_train)\n",
    " \n",
    "print(f\"Training set score: {pipe.score(X_train,y_train)}\")\n",
    "print(f\"Test set score: {pipe.score(X_test,y_test)}\")"
   ]
  },
  {
   "cell_type": "markdown",
   "id": "quantitative-lancaster",
   "metadata": {},
   "source": [
    "## Optimizing and Tuning the Pipeline\n",
    "\n",
    "In order to optimize the model, we could:\n",
    "- Search for the best scalers: instead of the `StandardScaler()`, we can try `MinMaxScaler()`, `Normalizer()` and `MaxAbsScaler()`.\n",
    "- Search for the best variance threshold to use in the `VarianceThreshold()`.\n",
    "- Search for the best value of `k` for the `KNeighborsClassifier()`.\n",
    "\n",
    "These parameters could be provided to the pipeline via a Python `dict`.<br>\n",
    "In the `dict`, the key must be written, with a double underscore `__` separating the module name that we selected in the `Pipeline()` and its parameter.\n"
   ]
  },
  {
   "cell_type": "code",
   "execution_count": 28,
   "id": "parallel-container",
   "metadata": {},
   "outputs": [],
   "source": [
    "\n",
    "parameters = {'scaler': [StandardScaler(), MinMaxScaler(), Normalizer(), MaxAbsScaler()],\n",
    "\t'selector__threshold': [0, 0.001, 0.01],\n",
    "\t'classifier__n_neighbors': [1, 3, 5, 7, 10],\n",
    "\t'classifier__p': [1, 2],\n",
    "\t'classifier__leaf_size': [1, 5, 10, 15]\n",
    "}\n"
   ]
  },
  {
   "cell_type": "markdown",
   "id": "adjustable-mechanism",
   "metadata": {},
   "source": [
    "The pipeline along with the above list of parameters are then passed to a **GridSearchCV()** object.<br>\n",
    "\n",
    "The object is so named because it sets up a multi-dimensional grid, with each corner representing a combination of parameters to try. <br>\n",
    "For each corner of the above grid, the `GridSearchCV()` object computes the mean cross-validation score on the unseen examples and selects the corner/combination of parameters that give the best result.\n",
    "<br>\n",
    "\n",
    "By tuning the pipeline, we can obtain quite an improvement over a simple classifier and a non-optimized pipeline. <br>\n",
    "\n",
    "It is then important to analyze the results of the optimization process.<br>"
   ]
  },
  {
   "cell_type": "code",
   "execution_count": 29,
   "id": "reliable-seafood",
   "metadata": {},
   "outputs": [
    {
     "name": "stdout",
     "output_type": "stream",
     "text": [
      "Training set score: 1.0\n",
      "Test set score: 0.9666666666666667\n"
     ]
    }
   ],
   "source": [
    "from sklearn.model_selection import GridSearchCV \n",
    "\n",
    "grid = GridSearchCV(pipe, parameters, cv=2).fit(X_train, y_train)\n",
    " \n",
    "print(f\"Training set score: {grid.score(X_train,y_train)}\")\n",
    "print(f\"Test set score: {grid.score(X_test,y_test)}\")"
   ]
  },
  {
   "cell_type": "markdown",
   "id": "furnished-forestry",
   "metadata": {},
   "source": [
    "The code below shows how to access the best parameters of the grid and the best pipeline for our task."
   ]
  },
  {
   "cell_type": "code",
   "execution_count": 30,
   "id": "hybrid-veteran",
   "metadata": {},
   "outputs": [
    {
     "name": "stdout",
     "output_type": "stream",
     "text": [
      "{'classifier__leaf_size': 1, 'classifier__n_neighbors': 1, 'classifier__p': 2, 'scaler': MaxAbsScaler(), 'selector__threshold': 0}\n",
      "Pipeline(steps=[('scaler', MaxAbsScaler()),\n",
      "                ('selector', VarianceThreshold(threshold=0)),\n",
      "                ('classifier',\n",
      "                 KNeighborsClassifier(leaf_size=1, n_neighbors=1))])\n"
     ]
    }
   ],
   "source": [
    "# Access the best set of parameters\n",
    "best_params = grid.best_params_\n",
    "print(best_params)\n",
    "# Stores the optimum model in best_pipe\n",
    "best_pipe = grid.best_estimator_\n",
    "print(best_pipe)"
   ]
  },
  {
   "cell_type": "markdown",
   "id": "bearing-spanish",
   "metadata": {},
   "source": [
    "Another useful technique for analyzing the results is to construct a `DataFrame` from the grid using the attribute **cv_results_**. <br>\n",
    "\n",
    "This DataFrame is very valuable as it shows us the scores for different parameters.<br>\n",
    "\n",
    "The column with the **mean_test_score** is the average of the scores on the test set for all the folds during cross-validation. <br>\n",
    "\n",
    "This DataFrame can then be plotted.<br>"
   ]
  },
  {
   "cell_type": "code",
   "execution_count": 33,
   "id": "informed-press",
   "metadata": {},
   "outputs": [
    {
     "name": "stdout",
     "output_type": "stream",
     "text": [
      "Index(['mean_fit_time', 'std_fit_time', 'mean_score_time', 'std_score_time',\n",
      "       'param_classifier__leaf_size', 'param_classifier__n_neighbors',\n",
      "       'param_classifier__p', 'param_scaler', 'param_selector__threshold',\n",
      "       'params', 'split0_test_score', 'split1_test_score', 'mean_test_score',\n",
      "       'std_test_score', 'rank_test_score'],\n",
      "      dtype='object')\n"
     ]
    },
    {
     "data": {
      "text/plain": [
       "<seaborn.axisgrid.FacetGrid at 0xd0b5be0>"
      ]
     },
     "execution_count": 33,
     "metadata": {},
     "output_type": "execute_result"
    },
    {
     "data": {
      "image/png": "[encoded data removed]",
      "text/plain": [
       "<Figure size 840.25x360 with 2 Axes>"
      ]
     },
     "metadata": {
      "needs_background": "light"
     },
     "output_type": "display_data"
    }
   ],
   "source": [
    "df = pd.DataFrame.from_dict(grid.cv_results_, orient='columns')\n",
    "print(df.columns)\n",
    "sns.relplot(data=df,\n",
    "\tkind='line',\n",
    "\tx='param_classifier__n_neighbors',\n",
    "\ty='mean_test_score',\n",
    "\thue='param_scaler',\n",
    "\tcol='param_classifier__p')"
   ]
  },
  {
   "cell_type": "code",
   "execution_count": null,
   "id": "architectural-lecture",
   "metadata": {},
   "outputs": [],
   "source": []
  }
 ],
 "metadata": {
  "kernelspec": {
   "display_name": "Python 3",
   "language": "python",
   "name": "python3"
  },
  "language_info": {
   "codemirror_mode": {
    "name": "ipython",
    "version": 3
   },
   "file_extension": ".py",
   "mimetype": "text/x-python",
   "name": "python",
   "nbconvert_exporter": "python",
   "pygments_lexer": "ipython3",
   "version": "3.8.8"
  }
 },
 "nbformat": 4,
 "nbformat_minor": 5
}
