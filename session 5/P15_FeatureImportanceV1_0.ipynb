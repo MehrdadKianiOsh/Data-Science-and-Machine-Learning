{
 "cells": [
  {
   "cell_type": "markdown",
   "id": "early-breakfast",
   "metadata": {},
   "source": [
    "\n",
    "# Feature Importance\n",
    "\n",
    "**Feature importance** refers to a class of techniques for assigning scores to input features (independent variables) to a predictive model that indicates the relative importance of each feature when making a prediction.<br>\n",
    "\n",
    "Feature importance scores can be calculated for both regression and classification problems.\n",
    "\n",
    "The scores are useful and can be used in a range of situations in a predictive modeling problem, such as:\n",
    "\n",
    "- **Better understanding the data**: the relative scores can highlight which features may be most relevant to the target, and the converse, which features are the least relevant. This may be interpreted by a domain expert and could be used as the basis for gathering more or different data.\n",
    "- **Better understanding a model**: most importance scores are calculated by a predictive model that has been fit on the dataset. Inspecting the importance score provides insight into that specific model and which features are the most important and least important to the model when making a prediction.\n",
    "- **Reducing the number of input features**: the importance scores can be used to select those features to delete (lowest scores) or those features to keep (highest scores). This is a type of **feature selection**. **Feature selection** can simplify the problem that is being modeled, speed up the modeling process, and potentially, improve the performance of the model. Feature importance scores can be fed to a wrapper model, such as the **`SelectFromModel`** class, to perform feature selection.\n"
   ]
  },
  {
   "cell_type": "markdown",
   "id": "passing-climb",
   "metadata": {},
   "source": [
    "There are many ways to calculate feature importance scores and many models that can be used for this purpose. <br>\n",
    "The three main ways of doing so are:\n",
    "\n",
    "1. Feature importance from model coefficients.\n",
    "2. Feature importance from decision trees.\n",
    "3. Feature importance from permutation testing.\n",
    "\n",
    "## Coefficients as Feature Importance\n",
    "\n",
    "Linear machine learning algorithms fit a model where the prediction is the weighted sum of the input values.<br>\n",
    "\n",
    "Examples include **linear regression**, **logistic regression**, **ridge regression**, ...<br>\n",
    "\n",
    "All of these algorithms find a set of coefficients to use in the weighted sum in order to make a prediction. <br>\n",
    "These coefficients can be used directly as a type of feature importance score.<br>\n",
    "Notice that the coefficients can be both positive and negative.<br>\n",
    "\n",
    "**Note**: this assumes that the input variables have the same scale or have been scaled prior to fitting a model."
   ]
  },
  {
   "cell_type": "markdown",
   "id": "hollywood-break",
   "metadata": {},
   "source": [
    "In the following example, the sample data is relevant to the oil & gas industry. It is originally from Dr. Michael Pyrcz, petroleum engineering professor at the University of Texas at Austin. \n",
    "\n",
    "Description of headers:\n",
    "\n",
    "    Well : well index\n",
    "    Por : well average porosity (%)\n",
    "    Perm : permeability (mD)\n",
    "    AI : accoustic impedance (kg/m2s*10^6)\n",
    "    Brittle : brittleness ratio (%)\n",
    "    TOC : total organic carbon (%)\n",
    "    VR : vitrinite reflectance (%)\n",
    "\n",
    "    Prod : gas production per day (MCFD) - Dependent Variable or Target\n",
    "\n",
    "We have six features (Por, Perm, AI, Brittle, TOC, VR) to predict the response variable (Prod). "
   ]
  },
  {
   "cell_type": "code",
   "execution_count": 9,
   "id": "explicit-greeting",
   "metadata": {},
   "outputs": [
    {
     "data": {
      "text/plain": [
       "LinearRegression()"
      ]
     },
     "execution_count": 9,
     "metadata": {},
     "output_type": "execute_result"
    },
    {
     "name": "stdout",
     "output_type": "stream",
     "text": [
      "         Coefficient\n",
      "Well       -4.198389\n",
      "Por       697.587396\n",
      "Brittle   363.668436\n",
      "Perm      186.111401\n",
      "TOC         8.035047\n",
      "VR        204.031162\n",
      "AI       -159.745702\n"
     ]
    },
    {
     "data": {
      "image/png": "[encoded data removed]",
      "text/plain": [
       "<Figure size 432x288 with 1 Axes>"
      ]
     },
     "metadata": {
      "needs_background": "light"
     },
     "output_type": "display_data"
    }
   ],
   "source": [
    "import pandas as pd\n",
    "import numpy as np\n",
    "import matplotlib.pyplot as plt\n",
    "import seaborn as sns\n",
    "from sklearn.model_selection import train_test_split\n",
    "from sklearn.linear_model import LinearRegression\n",
    "from sklearn.preprocessing import StandardScaler\n",
    "\n",
    "file = 'datasets/unconv_MV_v5.csv'\n",
    "df = pd.read_csv(file)\n",
    "\n",
    "features = ['Well', 'Por', 'Brittle', 'Perm', 'TOC', 'VR', 'AI']\n",
    "target = 'Prod'\n",
    "\n",
    "X_org = df[features]\n",
    "y = df[target]\n",
    "\n",
    "scaler = StandardScaler()\n",
    "X = scaler.fit_transform(X_org)\n",
    "\n",
    "\n",
    "X_train, X_test, y_train, y_test = train_test_split(X, y, test_size=0.2, random_state=0)\n",
    "\n",
    "regressor = LinearRegression()\n",
    "regressor.fit(X_train, y_train)\n",
    "\n",
    "# To see the coefficients:              \n",
    "coeff_df = pd.DataFrame(regressor.coef_, X_org.columns, columns=['Coefficient'])\n",
    "print(coeff_df)\n",
    "coeff_df.reset_index(inplace=True)\n",
    "ax = coeff_df.plot.bar(x='index', y='Coefficient', rot=0)"
   ]
  },
  {
   "cell_type": "markdown",
   "id": "searching-protection",
   "metadata": {},
   "source": [
    "In the above example, the scores suggest that the model found 2 features more important than the others: `Por`  is the most important feature, and `Brittle` is the second most important feature."
   ]
  },
  {
   "cell_type": "markdown",
   "id": "floral-stuart",
   "metadata": {},
   "source": [
    "## Decision Tree Feature Importance\n",
    "\n",
    "**Decision tree** algorithms like classification and regression trees (**CART**) offer importance scores based on the reduction in the criterion used to select split points, like **Gini** or **entropy**.<br>\n",
    "\n",
    "This same approach can be used for **ensembles of decision trees**, such as the **random forest** and **stochastic gradient boosting** algorithms.\n",
    "\n",
    "We can use the **CART algorithm** for feature importance implemented in `scikit-learn` as the **`DecisionTreeRegressor`** and **`DecisionTreeClassifier`** classes.\n",
    "\n",
    "After being fit, the model provides a **`feature_importances_`** property that can be accessed to retrieve the relative importance scores for each input feature.\n",
    "\n"
   ]
  },
  {
   "cell_type": "code",
   "execution_count": 10,
   "id": "human-package",
   "metadata": {},
   "outputs": [
    {
     "data": {
      "text/plain": [
       "DecisionTreeRegressor()"
      ]
     },
     "execution_count": 10,
     "metadata": {},
     "output_type": "execute_result"
    },
    {
     "name": "stdout",
     "output_type": "stream",
     "text": [
      "Feature:Well    , Score: 0.00308\n",
      "Feature:Por     , Score: 0.81042\n",
      "Feature:Brittle , Score: 0.14191\n",
      "Feature:Perm    , Score: 0.01168\n",
      "Feature:TOC     , Score: 0.01020\n",
      "Feature:VR      , Score: 0.01490\n",
      "Feature:AI      , Score: 0.00781\n"
     ]
    },
    {
     "data": {
      "text/plain": [
       "<BarContainer object of 7 artists>"
      ]
     },
     "execution_count": 10,
     "metadata": {},
     "output_type": "execute_result"
    },
    {
     "data": {
      "image/png": "[encoded data removed]",
      "text/plain": [
       "<Figure size 432x288 with 1 Axes>"
      ]
     },
     "metadata": {
      "needs_background": "light"
     },
     "output_type": "display_data"
    }
   ],
   "source": [
    "import pandas as pd\n",
    "import numpy as np\n",
    "import matplotlib.pyplot as plt\n",
    "import seaborn as sns\n",
    "from sklearn.model_selection import train_test_split\n",
    "from sklearn.tree import DecisionTreeRegressor\n",
    "from sklearn.preprocessing import StandardScaler\n",
    "\n",
    "file = 'datasets/unconv_MV_v5.csv'\n",
    "df = pd.read_csv(file)\n",
    "\n",
    "features = ['Well', 'Por', 'Brittle', 'Perm', 'TOC', 'VR', 'AI']\n",
    "target = 'Prod'\n",
    "\n",
    "X_org = df[features]\n",
    "y = df[target]\n",
    "\n",
    "scaler = StandardScaler()\n",
    "X = scaler.fit_transform(X_org)\n",
    "\n",
    "X_train, X_test, y_train, y_test = train_test_split(X, y, test_size=0.2, random_state=0)\n",
    "\n",
    "model = DecisionTreeRegressor()\n",
    "# fit the model\n",
    "model.fit(X_train, y_train)\n",
    "# get importance\n",
    "importance = model.feature_importances_\n",
    "\n",
    "# summarize feature importance\n",
    "for i,v in enumerate(importance):\n",
    "    print(f'Feature:{features[i]:8s}, Score: {v:.5f}')\n",
    "# plot feature importance\n",
    "plt.bar(features, importance)"
   ]
  },
  {
   "cell_type": "markdown",
   "id": "fluid-locator",
   "metadata": {},
   "source": [
    "The results suggest 2 of the 7 features as being important to prediction."
   ]
  },
  {
   "cell_type": "markdown",
   "id": "equal-organic",
   "metadata": {},
   "source": [
    "## Permutation Feature Importance\n",
    "\n",
    "**Permutation** feature importance is a technique for calculating relative importance scores that is independent of the model used.\n",
    "\n",
    "First, a model is fit on the dataset, such as a model that does not support native feature importance scores. Then the model is used to make predictions on a dataset, although the values of a feature (column) in the dataset are scrambled. This is repeated for each feature in the dataset. Then this whole process is repeated 3, 5, 10 or more times. The result is a mean importance score for each input feature (and distribution of scores given the repeats).\n",
    "\n",
    "This approach can be used for regression or classification and requires that a performance metric be chosen as the basis of the importance score, such as the mean squared error for regression and accuracy for classification.\n",
    "\n",
    "Permutation feature selection can be used via the **`permutation_importance()`** function that takes a fit model, a dataset (train or test dataset is fine), and a scoring function."
   ]
  },
  {
   "cell_type": "code",
   "execution_count": 13,
   "id": "southeast-wrapping",
   "metadata": {},
   "outputs": [
    {
     "data": {
      "text/plain": [
       "KNeighborsRegressor()"
      ]
     },
     "execution_count": 13,
     "metadata": {},
     "output_type": "execute_result"
    },
    {
     "name": "stdout",
     "output_type": "stream",
     "text": [
      "Feature:Well    , Score: 5102.46220\n",
      "Feature:Por     , Score: 352331.19240\n",
      "Feature:Brittle , Score: 200536.17657\n",
      "Feature:Perm    , Score: 162400.44226\n",
      "Feature:TOC     , Score: 55608.18140\n",
      "Feature:VR      , Score: 43812.65470\n",
      "Feature:AI      , Score: 34777.39108\n"
     ]
    },
    {
     "data": {
      "text/plain": [
       "<BarContainer object of 7 artists>"
      ]
     },
     "execution_count": 13,
     "metadata": {},
     "output_type": "execute_result"
    },
    {
     "data": {
      "image/png": "[encoded data removed]",
      "text/plain": [
       "<Figure size 432x288 with 1 Axes>"
      ]
     },
     "metadata": {
      "needs_background": "light"
     },
     "output_type": "display_data"
    }
   ],
   "source": [
    "import pandas as pd\n",
    "import numpy as np\n",
    "import matplotlib.pyplot as plt\n",
    "import seaborn as sns\n",
    "from sklearn.model_selection import train_test_split\n",
    "from sklearn.neighbors import KNeighborsRegressor\n",
    "from sklearn.preprocessing import StandardScaler\n",
    "from sklearn.inspection import permutation_importance\n",
    "\n",
    "file = 'datasets/unconv_MV_v5.csv'\n",
    "df = pd.read_csv(file)\n",
    "\n",
    "features = ['Well', 'Por', 'Brittle', 'Perm', 'TOC', 'VR', 'AI']\n",
    "target = 'Prod'\n",
    "\n",
    "X_org = df[features]\n",
    "y = df[target]\n",
    "\n",
    "scaler = StandardScaler()\n",
    "X = scaler.fit_transform(X_org)\n",
    "\n",
    "model = KNeighborsRegressor()\n",
    "# fit the model\n",
    "model.fit(X, y)\n",
    "\n",
    "# perform permutation importance\n",
    "results = permutation_importance(model, X, y, scoring='neg_mean_squared_error')\n",
    "# get importance\n",
    "importance = results.importances_mean\n",
    "\n",
    "# summarize feature importance\n",
    "for i,v in enumerate(importance):\n",
    "    print(f'Feature:{features[i]:8s}, Score: {v:.5f}')\n",
    "# plot feature importance\n",
    "plt.bar(features, importance)\n"
   ]
  },
  {
   "cell_type": "markdown",
   "id": "heated-thousand",
   "metadata": {},
   "source": [
    "## Feature Selection with Importance\n",
    "\n",
    "Feature importance scores can be used to help interpret the data, but they can also be used directly to help rank and select features that are most useful to a predictive model.<br>\n",
    "\n",
    "We can use the **`SelectFromModel`** class to define both the model we wish to calculate importance scores and the number `n` of features to select.<br> We can then apply the method as a transform to select a subset of `n` most important features from the dataset.<br>\n",
    "<br>\n",
    "\n",
    "Example: <br>\n",
    "    `fs = SelectFromModel(DecisionTreeRegressor(), max_features=3, threshold=-np.inf)`"
   ]
  },
  {
   "cell_type": "code",
   "execution_count": 15,
   "id": "closed-cleaning",
   "metadata": {
    "scrolled": true
   },
   "outputs": [
    {
     "data": {
      "text/plain": [
       "LinearRegression()"
      ]
     },
     "execution_count": 15,
     "metadata": {},
     "output_type": "execute_result"
    },
    {
     "name": "stdout",
     "output_type": "stream",
     "text": [
      "[0.95127901 0.88516033 0.9591793  0.95616915 0.97761087 0.96107176\n",
      " 0.94428716 0.91395282 0.92630968 0.93258852]\n",
      "R2: 0.941 (0.026)\n"
     ]
    }
   ],
   "source": [
    "import pandas as pd\n",
    "import numpy as np\n",
    "import matplotlib.pyplot as plt\n",
    "import seaborn as sns\n",
    "from sklearn.model_selection import train_test_split\n",
    "from sklearn.linear_model import LinearRegression\n",
    "from sklearn.preprocessing import StandardScaler\n",
    "from sklearn.metrics import accuracy_score\n",
    "from sklearn import model_selection\n",
    "from sklearn.feature_selection import SelectFromModel\n",
    "\n",
    "file = 'https://aegis4048.github.io/downloads/notebooks/sample_data/unconv_MV_v5.csv'\n",
    "df = pd.read_csv(file)\n",
    "\n",
    "features = ['Well', 'Por', 'Brittle', 'Perm', 'TOC', 'VR', 'AI']\n",
    "target = 'Prod'\n",
    "\n",
    "X_org = df[features]\n",
    "y = df[target]\n",
    "\n",
    "scaler = StandardScaler()\n",
    "X = scaler.fit_transform(X_org)\n",
    "\n",
    "# feature selection\n",
    "def select_features(X_train, y_train):\n",
    "\t# configure to select a subset of features\n",
    "\tfs = SelectFromModel(DecisionTreeRegressor(), max_features=4, threshold=-np.inf)\n",
    "\t# learn relationship from training data\n",
    "\tfs.fit(X_train, y_train)\n",
    "\t# transform train input data\n",
    "\tX_train_fs = fs.transform(X_train)\n",
    "\treturn X_train_fs, fs\n",
    "\n",
    "X_train, X_test, y_train, y_test = train_test_split(X, y, test_size=0.2, random_state=0)\n",
    "# feature selection\n",
    "X_sel, fs = select_features(X, y)\n",
    "X_train_sel=fs.transform(X_train)\n",
    "\n",
    "\n",
    "model = LinearRegression()\n",
    "model.fit(X_train_sel, y_train)\n",
    "\n",
    "# evaluate predictions\n",
    "kfold = model_selection.KFold(n_splits=10, random_state=7, shuffle=True)\n",
    "scoring = 'r2'\n",
    "results = model_selection.cross_val_score(model, X_sel, y, cv=kfold, scoring=scoring)\n",
    "print(results)\n",
    "print(f\"R2: {results.mean():.3f} ({results.std():.3f})\")"
   ]
  },
  {
   "cell_type": "code",
   "execution_count": null,
   "id": "front-burlington",
   "metadata": {},
   "outputs": [],
   "source": []
  }
 ],
 "metadata": {
  "kernelspec": {
   "display_name": "Python 3",
   "language": "python",
   "name": "python3"
  },
  "language_info": {
   "codemirror_mode": {
    "name": "ipython",
    "version": 3
   },
   "file_extension": ".py",
   "mimetype": "text/x-python",
   "name": "python",
   "nbconvert_exporter": "python",
   "pygments_lexer": "ipython3",
   "version": "3.8.8"
  }
 },
 "nbformat": 4,
 "nbformat_minor": 5
}
